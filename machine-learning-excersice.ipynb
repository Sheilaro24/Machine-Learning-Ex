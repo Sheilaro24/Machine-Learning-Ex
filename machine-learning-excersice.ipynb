{
 "cells": [
  {
   "cell_type": "code",
   "execution_count": 3,
   "id": "1f8b2a14-536e-4e78-a685-ec9fcbb0e294",
   "metadata": {},
   "outputs": [],
   "source": [
    "import numpy as np \n",
    "import pandas as pd \n",
    "import findspark"
   ]
  },
  {
   "cell_type": "code",
   "execution_count": 4,
   "id": "d0026081-bae1-487a-96c0-34645d1b8699",
   "metadata": {},
   "outputs": [],
   "source": [
    "#importar libreria e iniciar sesior\n",
    "from pyspark.sql import SparkSession\n",
    "\n",
    "spark = SparkSession\\\n",
    "        .builder.appName('UCI enfermedades del corazon')\\\n",
    "        .getOrCreate()"
   ]
  },
  {
   "cell_type": "code",
   "execution_count": 5,
   "id": "5dd9ce2d-3853-401c-ad38-049c2089d50b",
   "metadata": {},
   "outputs": [],
   "source": [
    "#implementación del algoritmo de regresión logística que se encuentra en la biblioteca \n",
    "from pyspark.ml.classification import LogisticRegression"
   ]
  },
  {
   "cell_type": "code",
   "execution_count": 7,
   "id": "56b8912e-def2-43db-99d4-53a94e988e99",
   "metadata": {},
   "outputs": [
    {
     "name": "stdout",
     "output_type": "stream",
     "text": [
      "+---+---+---+--------+----+---+-------+-------+-----+-------+-----+---+----+------+\n",
      "|age|sex| cp|trestbps|chol|fbs|restecg|thalach|exang|oldpeak|slope| ca|thal|target|\n",
      "+---+---+---+--------+----+---+-------+-------+-----+-------+-----+---+----+------+\n",
      "| 63|  1|  3|     145| 233|  1|      0|    150|    0|    2.3|    0|  0|   1|     1|\n",
      "| 37|  1|  2|     130| 250|  0|      1|    187|    0|    3.5|    0|  0|   2|     1|\n",
      "| 41|  0|  1|     130| 204|  0|      0|    172|    0|    1.4|    2|  0|   2|     1|\n",
      "| 56|  1|  1|     120| 236|  0|      1|    178|    0|    0.8|    2|  0|   2|     1|\n",
      "| 57|  0|  0|     120| 354|  0|      1|    163|    1|    0.6|    2|  0|   2|     1|\n",
      "| 57|  1|  0|     140| 192|  0|      1|    148|    0|    0.4|    1|  0|   1|     1|\n",
      "+---+---+---+--------+----+---+-------+-------+-----+-------+-----+---+----+------+\n",
      "only showing top 6 rows\n",
      "\n"
     ]
    }
   ],
   "source": [
    "#leer el CSV\n",
    "corazon = spark.read.csv(r'C:\\Users\\rc_sh\\OneDrive\\Escritorio\\spark\\Analítica+de+datos+con+PySpark\\data\\heart.csv', \n",
    "                       inferSchema = True, \n",
    "                       header = True)\n",
    "corazon.show(6)"
   ]
  },
  {
   "cell_type": "code",
   "execution_count": 8,
   "id": "fc40262c-6085-4728-9644-f239c265fa84",
   "metadata": {},
   "outputs": [
    {
     "data": {
      "text/html": [
       "<div>\n",
       "<style scoped>\n",
       "    .dataframe tbody tr th:only-of-type {\n",
       "        vertical-align: middle;\n",
       "    }\n",
       "\n",
       "    .dataframe tbody tr th {\n",
       "        vertical-align: top;\n",
       "    }\n",
       "\n",
       "    .dataframe thead th {\n",
       "        text-align: right;\n",
       "    }\n",
       "</style>\n",
       "<table border=\"1\" class=\"dataframe\">\n",
       "  <thead>\n",
       "    <tr style=\"text-align: right;\">\n",
       "      <th></th>\n",
       "      <th>age</th>\n",
       "      <th>sex</th>\n",
       "      <th>cp</th>\n",
       "      <th>trestbps</th>\n",
       "      <th>chol</th>\n",
       "      <th>fbs</th>\n",
       "      <th>restecg</th>\n",
       "      <th>thalach</th>\n",
       "      <th>exang</th>\n",
       "      <th>oldpeak</th>\n",
       "      <th>slope</th>\n",
       "      <th>ca</th>\n",
       "      <th>thal</th>\n",
       "      <th>target</th>\n",
       "    </tr>\n",
       "  </thead>\n",
       "  <tbody>\n",
       "    <tr>\n",
       "      <th>0</th>\n",
       "      <td>63</td>\n",
       "      <td>1</td>\n",
       "      <td>3</td>\n",
       "      <td>145</td>\n",
       "      <td>233</td>\n",
       "      <td>1</td>\n",
       "      <td>0</td>\n",
       "      <td>150</td>\n",
       "      <td>0</td>\n",
       "      <td>2.3</td>\n",
       "      <td>0</td>\n",
       "      <td>0</td>\n",
       "      <td>1</td>\n",
       "      <td>1</td>\n",
       "    </tr>\n",
       "    <tr>\n",
       "      <th>1</th>\n",
       "      <td>37</td>\n",
       "      <td>1</td>\n",
       "      <td>2</td>\n",
       "      <td>130</td>\n",
       "      <td>250</td>\n",
       "      <td>0</td>\n",
       "      <td>1</td>\n",
       "      <td>187</td>\n",
       "      <td>0</td>\n",
       "      <td>3.5</td>\n",
       "      <td>0</td>\n",
       "      <td>0</td>\n",
       "      <td>2</td>\n",
       "      <td>1</td>\n",
       "    </tr>\n",
       "    <tr>\n",
       "      <th>2</th>\n",
       "      <td>41</td>\n",
       "      <td>0</td>\n",
       "      <td>1</td>\n",
       "      <td>130</td>\n",
       "      <td>204</td>\n",
       "      <td>0</td>\n",
       "      <td>0</td>\n",
       "      <td>172</td>\n",
       "      <td>0</td>\n",
       "      <td>1.4</td>\n",
       "      <td>2</td>\n",
       "      <td>0</td>\n",
       "      <td>2</td>\n",
       "      <td>1</td>\n",
       "    </tr>\n",
       "    <tr>\n",
       "      <th>3</th>\n",
       "      <td>56</td>\n",
       "      <td>1</td>\n",
       "      <td>1</td>\n",
       "      <td>120</td>\n",
       "      <td>236</td>\n",
       "      <td>0</td>\n",
       "      <td>1</td>\n",
       "      <td>178</td>\n",
       "      <td>0</td>\n",
       "      <td>0.8</td>\n",
       "      <td>2</td>\n",
       "      <td>0</td>\n",
       "      <td>2</td>\n",
       "      <td>1</td>\n",
       "    </tr>\n",
       "    <tr>\n",
       "      <th>4</th>\n",
       "      <td>57</td>\n",
       "      <td>0</td>\n",
       "      <td>0</td>\n",
       "      <td>120</td>\n",
       "      <td>354</td>\n",
       "      <td>0</td>\n",
       "      <td>1</td>\n",
       "      <td>163</td>\n",
       "      <td>1</td>\n",
       "      <td>0.6</td>\n",
       "      <td>2</td>\n",
       "      <td>0</td>\n",
       "      <td>2</td>\n",
       "      <td>1</td>\n",
       "    </tr>\n",
       "  </tbody>\n",
       "</table>\n",
       "</div>"
      ],
      "text/plain": [
       "   age  sex  cp  trestbps  chol  fbs  restecg  thalach  exang  oldpeak  slope  \\\n",
       "0   63    1   3       145   233    1        0      150      0      2.3      0   \n",
       "1   37    1   2       130   250    0        1      187      0      3.5      0   \n",
       "2   41    0   1       130   204    0        0      172      0      1.4      2   \n",
       "3   56    1   1       120   236    0        1      178      0      0.8      2   \n",
       "4   57    0   0       120   354    0        1      163      1      0.6      2   \n",
       "\n",
       "   ca  thal  target  \n",
       "0   0     1       1  \n",
       "1   0     2       1  \n",
       "2   0     2       1  \n",
       "3   0     2       1  \n",
       "4   0     2       1  "
      ]
     },
     "execution_count": 8,
     "metadata": {},
     "output_type": "execute_result"
    }
   ],
   "source": [
    "#conversion a Pandas\n",
    "corazon.toPandas().head()"
   ]
  },
  {
   "cell_type": "code",
   "execution_count": 9,
   "id": "9a8bc8c2-6bdb-4fba-87fd-ccf1358239e3",
   "metadata": {},
   "outputs": [],
   "source": [
    "#PROCESAR LOS DATOS"
   ]
  },
  {
   "cell_type": "code",
   "execution_count": 11,
   "id": "5be7b021-38f8-453b-85d2-07c98b42f8a5",
   "metadata": {},
   "outputs": [],
   "source": [
    "#Importar librerias a usar\n",
    "#crear objetos de vector que contienen las características de cada instancia en un conjunto de datos\n",
    "from pyspark.ml.linalg import Vectors\n",
    "#transformación que combina múltiples columnas de características en un solo vector de características\n",
    "from pyspark.ml.feature import VectorAssembler"
   ]
  },
  {
   "cell_type": "code",
   "execution_count": 13,
   "id": "82f54f67-8631-461d-8b9b-e3a69c0bdaa1",
   "metadata": {},
   "outputs": [
    {
     "data": {
      "text/plain": [
       "['age',\n",
       " 'sex',\n",
       " 'cp',\n",
       " 'trestbps',\n",
       " 'chol',\n",
       " 'fbs',\n",
       " 'restecg',\n",
       " 'thalach',\n",
       " 'exang',\n",
       " 'oldpeak',\n",
       " 'slope',\n",
       " 'ca',\n",
       " 'thal',\n",
       " 'target']"
      ]
     },
     "execution_count": 13,
     "metadata": {},
     "output_type": "execute_result"
    }
   ],
   "source": [
    "#mostrar  las columnas\n",
    "corazon.columns"
   ]
  },
  {
   "cell_type": "code",
   "execution_count": 14,
   "id": "e07071ca-5203-4521-bc5b-2551a2772722",
   "metadata": {},
   "outputs": [],
   "source": [
    "# inputCols como entrada para algoritmos para los siguiente nueva columna outpult features\n",
    "assembler = VectorAssembler(\n",
    "                            inputCols=['age',\n",
    "                            'sex',\n",
    "                            'cp',\n",
    "                            'trestbps',\n",
    "                            'chol',\n",
    "                            'fbs',\n",
    "                            'restecg',\n",
    "                            'thalach',\n",
    "                            'exang',\n",
    "                            'oldpeak',\n",
    "                            'slope',\n",
    "                            'ca',\n",
    "                            'thal'],\n",
    "                            outputCol=\"features\")"
   ]
  },
  {
   "cell_type": "code",
   "execution_count": 15,
   "id": "22b35c7a-0eef-4e06-a9d1-9325cb635659",
   "metadata": {},
   "outputs": [
    {
     "name": "stdout",
     "output_type": "stream",
     "text": [
      "+---+---+---+--------+----+---+-------+-------+-----+-------+-----+---+----+------+--------------------+\n",
      "|age|sex| cp|trestbps|chol|fbs|restecg|thalach|exang|oldpeak|slope| ca|thal|target|            features|\n",
      "+---+---+---+--------+----+---+-------+-------+-----+-------+-----+---+----+------+--------------------+\n",
      "| 63|  1|  3|     145| 233|  1|      0|    150|    0|    2.3|    0|  0|   1|     1|[63.0,1.0,3.0,145...|\n",
      "| 37|  1|  2|     130| 250|  0|      1|    187|    0|    3.5|    0|  0|   2|     1|[37.0,1.0,2.0,130...|\n",
      "| 41|  0|  1|     130| 204|  0|      0|    172|    0|    1.4|    2|  0|   2|     1|[41.0,0.0,1.0,130...|\n",
      "| 56|  1|  1|     120| 236|  0|      1|    178|    0|    0.8|    2|  0|   2|     1|[56.0,1.0,1.0,120...|\n",
      "| 57|  0|  0|     120| 354|  0|      1|    163|    1|    0.6|    2|  0|   2|     1|[57.0,0.0,0.0,120...|\n",
      "| 57|  1|  0|     140| 192|  0|      1|    148|    0|    0.4|    1|  0|   1|     1|[57.0,1.0,0.0,140...|\n",
      "+---+---+---+--------+----+---+-------+-------+-----+-------+-----+---+----+------+--------------------+\n",
      "only showing top 6 rows\n",
      "\n"
     ]
    }
   ],
   "source": [
    "#nuevo DataFrame que incluye todas las columnas originales de corazon y, una nueva columna llamada features\n",
    "output = assembler.transform(corazon)\n",
    "output.show(6)"
   ]
  },
  {
   "cell_type": "code",
   "execution_count": 16,
   "id": "487ab0ac-ee62-4aca-8986-25edd22b19d7",
   "metadata": {},
   "outputs": [],
   "source": [
    "#seleccionar columnas y crear nuevo dataFrame\n",
    "final_data = output.select(\"features\",'target')"
   ]
  },
  {
   "cell_type": "code",
   "execution_count": 17,
   "id": "524f28ce-62c4-4941-ae93-7adc6aef5b35",
   "metadata": {},
   "outputs": [],
   "source": [
    "#ENTREANAR DATOS"
   ]
  },
  {
   "cell_type": "code",
   "execution_count": 18,
   "id": "1a8920e2-15d6-497c-a9f3-1ec43adf319d",
   "metadata": {},
   "outputs": [],
   "source": [
    "#ividir un DataFrame en dos conjuntos de datos primer elemento 70% y el segundo elemento 30% de la prueba\n",
    "train, test = final_data.randomSplit([0.7,0.3])"
   ]
  },
  {
   "cell_type": "code",
   "execution_count": 19,
   "id": "bc268331-1116-4d5a-8aad-5dd63f1ce7de",
   "metadata": {},
   "outputs": [],
   "source": [
    "#modelo de regresion, parametros principales, labelCol y featruesCol\n",
    "lr = LogisticRegression(labelCol=\"target\",\n",
    "                        featuresCol=\"features\")\n"
   ]
  },
  {
   "cell_type": "code",
   "execution_count": 20,
   "id": "2f2c16f9-b51e-44ce-8217-d8b781ab6ddc",
   "metadata": {},
   "outputs": [],
   "source": [
    "#ajustar el modelo\n",
    "model = lr.fit(train)"
   ]
  },
  {
   "cell_type": "code",
   "execution_count": 27,
   "id": "a5719833-a4ae-455d-8795-1f7423fe0c64",
   "metadata": {},
   "outputs": [
    {
     "name": "stdout",
     "output_type": "stream",
     "text": [
      "+------+----------+\n",
      "|target|prediction|\n",
      "+------+----------+\n",
      "|     0|       1.0|\n",
      "|     1|       1.0|\n",
      "|     1|       1.0|\n",
      "|     1|       1.0|\n",
      "|     1|       1.0|\n",
      "|     1|       1.0|\n",
      "|     1|       1.0|\n",
      "|     1|       1.0|\n",
      "|     0|       1.0|\n",
      "|     1|       1.0|\n",
      "|     1|       1.0|\n",
      "|     1|       1.0|\n",
      "|     0|       0.0|\n",
      "|     1|       1.0|\n",
      "|     0|       0.0|\n",
      "|     0|       1.0|\n",
      "|     1|       1.0|\n",
      "|     1|       1.0|\n",
      "|     1|       1.0|\n",
      "|     1|       1.0|\n",
      "+------+----------+\n",
      "only showing top 20 rows\n",
      "\n"
     ]
    }
   ],
   "source": [
    "#prediccion: \n",
    "prediccion=model.transform(train)\n",
    "prediccion=model.transform(test)\n",
    "prediccion.select(\"target\",\"prediction\").show()"
   ]
  },
  {
   "cell_type": "code",
   "execution_count": 28,
   "id": "58c59076-8aaa-42a9-afb7-6d73ed4b6aad",
   "metadata": {},
   "outputs": [],
   "source": [
    "#EVALUACION"
   ]
  },
  {
   "cell_type": "code",
   "execution_count": 29,
   "id": "8dcdb6f2-6b38-43f8-bcfa-2afd73c4f756",
   "metadata": {},
   "outputs": [
    {
     "name": "stdout",
     "output_type": "stream",
     "text": [
      "+------+--------------------+----------+--------------------+\n",
      "|target|       rawPrediction|prediction|         probability|\n",
      "+------+--------------------+----------+--------------------+\n",
      "|     0|[-1.1792252401565...|       1.0|[0.23519152871187...|\n",
      "|     1|[-1.4597510990713...|       1.0|[0.18850539691376...|\n",
      "|     1|[-5.1170848023076...|       1.0|[0.00595776193604...|\n",
      "|     1|[-1.7491717358471...|       1.0|[0.14815169680399...|\n",
      "|     1|[-0.6735548465885...|       1.0|[0.33770130874260...|\n",
      "|     1|[-2.0888394108513...|       1.0|[0.11018631319190...|\n",
      "|     1|[-3.7164205466069...|       1.0|[0.02374340737028...|\n",
      "|     1|[-3.4825673121236...|       1.0|[0.02981233429690...|\n",
      "|     0|[-3.0023630122985...|       1.0|[0.04731923426836...|\n",
      "|     1|[-3.7517573244226...|       1.0|[0.02293795206635...|\n",
      "|     1|[-4.8653628272865...|       1.0|[0.00765005612030...|\n",
      "|     1|[-0.4502159335573...|       1.0|[0.38930942713949...|\n",
      "|     0|[0.40856762014085...|       0.0|[0.60074437134865...|\n",
      "|     1|[-6.9508351329035...|       1.0|[9.56918330366835...|\n",
      "|     0|[2.94199964343701...|       0.0|[0.94988400428174...|\n",
      "|     0|[-1.2635983562782...|       1.0|[0.22035507720535...|\n",
      "|     1|[-1.7645654399953...|       1.0|[0.14621947224082...|\n",
      "|     1|[-4.5516212950182...|       1.0|[0.01043994341120...|\n",
      "|     1|[-3.9991149536131...|       1.0|[0.01800184894704...|\n",
      "|     1|[-2.8044937517863...|       1.0|[0.05708182453555...|\n",
      "+------+--------------------+----------+--------------------+\n",
      "only showing top 20 rows\n",
      "\n"
     ]
    }
   ],
   "source": [
    "#Importar biblioteca para evaluar\n",
    "from pyspark.ml.evaluation import BinaryClassificationEvaluator\n",
    "\n",
    "#Configuracion de la evaluacion\n",
    "#rawPredictionCol='rawPrediction': Especifica la columna que contiene las predicciones brutas del modelo.\n",
    "#labelCol='target': Especifica la columna que contiene las etiquetas reales (la variable objetivo) en los datos de prueba.\n",
    "evaluacion = BinaryClassificationEvaluator(rawPredictionCol='rawPrediction',\n",
    "                                          labelCol='target')\n",
    "#contiene los resultados de las predicciones del modelo sobre los datos de prueba.\n",
    "prediccion.select(\"target\",\"rawPrediction\",\"prediction\",\"probability\").show()"
   ]
  },
  {
   "cell_type": "code",
   "execution_count": 32,
   "id": "c20676ff-d211-4026-b687-3feb5dc65fad",
   "metadata": {},
   "outputs": [
    {
     "name": "stdout",
     "output_type": "stream",
     "text": [
      "El área bajo la curva ROC para el conjunto de entrenamiento es 0.8984126984126982\n",
      "El área bajo la curva ROC para el conjunto de prueba es 0.8984126984126982\n"
     ]
    }
   ],
   "source": [
    "#para evaluar y mostrar los datos\n",
    "print(\"El área bajo la curva ROC para el conjunto de entrenamiento es {}\".format(evaluacion.evaluate(prediccion)))\n",
    "\n",
    "print(\"El área bajo la curva ROC para el conjunto de prueba es {}\".format(evaluacion.evaluate(prediccion)))"
   ]
  },
  {
   "cell_type": "code",
   "execution_count": null,
   "id": "9533a0ac-59ed-4386-a4e0-b6b10ab348cb",
   "metadata": {},
   "outputs": [],
   "source": [
    "#El área bajo la curva ROC para el conjunto de entrenamiento es 0.8984126984126982:\n",
    "el modelo tiene una capacidad del 89.84% para distinguir entre las clases positivas y negativas en el conjunto de datos de entrenamiento.\n",
    "El área bajo la curva ROC para el conjunto de prueba es 0.8984126984126982:\n",
    "\n",
    "Indica que el modelo tiene una capacidad del 89.84% para distinguir entre las clases positivas y negativas en el conjunto de datos de prueba."
   ]
  }
 ],
 "metadata": {
  "kernelspec": {
   "display_name": "Python 3 (ipykernel)",
   "language": "python",
   "name": "python3"
  },
  "language_info": {
   "codemirror_mode": {
    "name": "ipython",
    "version": 3
   },
   "file_extension": ".py",
   "mimetype": "text/x-python",
   "name": "python",
   "nbconvert_exporter": "python",
   "pygments_lexer": "ipython3",
   "version": "3.11.7"
  }
 },
 "nbformat": 4,
 "nbformat_minor": 5
}
